{
  "nbformat": 4,
  "nbformat_minor": 0,
  "metadata": {
    "kernelspec": {
      "display_name": "Python 3",
      "language": "python",
      "name": "python3"
    },
    "language_info": {
      "codemirror_mode": {
        "name": "ipython",
        "version": 3
      },
      "file_extension": ".py",
      "mimetype": "text/x-python",
      "name": "python",
      "nbconvert_exporter": "python",
      "pygments_lexer": "ipython3",
      "version": "3.8.5"
    },
    "colab": {
      "name": "all_unique_words_with_frequency.ipynb",
      "provenance": [],
      "include_colab_link": true
    }
  },
  "cells": [
    {
      "cell_type": "markdown",
      "metadata": {
        "id": "view-in-github",
        "colab_type": "text"
      },
      "source": [
        "<a href=\"https://colab.research.google.com/github/anoy1729/Data_mining/blob/main/all_unique_words_with_frequency.ipynb\" target=\"_parent\"><img src=\"https://colab.research.google.com/assets/colab-badge.svg\" alt=\"Open In Colab\"/></a>"
      ]
    },
    {
      "cell_type": "markdown",
      "metadata": {
        "id": "aboypIYoFze6"
      },
      "source": [
        " ### Making frequency file (txt)"
      ]
    },
    {
      "cell_type": "code",
      "metadata": {
        "id": "kHPrX2ZbFze_"
      },
      "source": [
        "src = \"Trigram.txt\"\n",
        "dst = \"Frequency_wise_sort.txt\"\n",
        "dst1 = \"datafile.txt\""
      ],
      "execution_count": null,
      "outputs": []
    },
    {
      "cell_type": "code",
      "metadata": {
        "id": "mOQYbIqfFzfC"
      },
      "source": [
        "with open(dst, mode = 'w', newline = '', encoding = 'UTF-8') as fhandle:\n",
        "    dictionary = dict()\n",
        "    with open(src, mode = 'r', newline = '', encoding = 'UTF-8') as file:\n",
        "        for row in file:\n",
        "            row = row.replace(\"\\n\",\"\")\n",
        "            dictionary[row] = dictionary.get(row, 0) + 1\n",
        "            pass\n",
        "        list_of_tuple = dictionary.items()\n",
        "        list_of_tuple = sorted(list_of_tuple, key=lambda x: x[1], reverse = True)\n",
        "        \n",
        "        for key, val in list_of_tuple:\n",
        "            #sample input_array = [newsTitle, news_content, 'economics, bank-insurance', newsDate, newsWriter]\n",
        "            #file_writer.writerow([key, val])\n",
        "            fhandle.write(key+\" \"+str(val)+\"\\n\")\n",
        "            pass\n",
        "        pass\n",
        "    pass"
      ],
      "execution_count": null,
      "outputs": []
    },
    {
      "cell_type": "code",
      "metadata": {
        "id": "tXdlkDvwFzfD",
        "outputId": "2b87f491-cd2c-46c1-88ee-80f24be572a1"
      },
      "source": [
        "with open(dst, mode = 'r', newline = '', encoding = 'UTF-8') as file:\n",
        "    for count, row in enumerate(file):\n",
        "        print(row)\n",
        "        if count == 5:\n",
        "            break\n",
        "        pass\n",
        "    pass"
      ],
      "execution_count": null,
      "outputs": [
        {
          "output_type": "stream",
          "text": [
            "প্রধানমন্ত্রী শেখ হাসিনা 2527\n",
            "\n",
            "গত ২৪ ঘণ্টায় 2052\n",
            "\n",
            "তিনি আরও বলেন 2030\n",
            "\n",
            "সূত্রে জানা গেছে 1816\n",
            "\n",
            "এসব কথা বলেন 1685\n",
            "\n",
            "ভারপ্রাপ্ত কর্মকর্তা ওসি 1675\n",
            "\n"
          ],
          "name": "stdout"
        }
      ]
    },
    {
      "cell_type": "markdown",
      "metadata": {
        "id": "SnBHmJadFzfF"
      },
      "source": [
        "### making data file (txt)"
      ]
    },
    {
      "cell_type": "code",
      "metadata": {
        "id": "ki1K_ZRZFzfG",
        "outputId": "0ca708f9-f3cd-4e52-82d4-7084261633a4"
      },
      "source": [
        "with open(dst1, mode = 'w', newline = '', encoding = 'UTF-8') as fhandle:\n",
        "    dictionary = dict()\n",
        "    with open(src, mode = 'r', newline = '', encoding = 'UTF-8') as file:\n",
        "        for row in file:\n",
        "            row = row.replace(\"\\n\",\"\")\n",
        "            dictionary[row] = dictionary.get(row, 0) + 1\n",
        "            pass\n",
        "        list_of_tuple = dictionary.items()\n",
        "        #list_of_tuple = sorted(list_of_tuple, key=lambda x: x[1], reverse = True)\n",
        "        \n",
        "        for key, val in list_of_tuple:\n",
        "            #sample input_array = [newsTitle, news_content, 'economics, bank-insurance', newsDate, newsWriter]\n",
        "            #file_writer.writerow([key, val])\n",
        "            fhandle.write(key+\" \"+str(val)+\"\\n\")\n",
        "            pass\n",
        "        pass\n",
        "    pass"
      ],
      "execution_count": null,
      "outputs": [
        {
          "output_type": "error",
          "ename": "NameError",
          "evalue": "name 'dst1' is not defined",
          "traceback": [
            "\u001b[1;31m---------------------------------------------------------------------------\u001b[0m",
            "\u001b[1;31mNameError\u001b[0m                                 Traceback (most recent call last)",
            "\u001b[1;32m<ipython-input-3-a4393d6ea156>\u001b[0m in \u001b[0;36m<module>\u001b[1;34m\u001b[0m\n\u001b[1;32m----> 1\u001b[1;33m \u001b[1;32mwith\u001b[0m \u001b[0mopen\u001b[0m\u001b[1;33m(\u001b[0m\u001b[0mdst1\u001b[0m\u001b[1;33m,\u001b[0m \u001b[0mmode\u001b[0m \u001b[1;33m=\u001b[0m \u001b[1;34m'w'\u001b[0m\u001b[1;33m,\u001b[0m \u001b[0mnewline\u001b[0m \u001b[1;33m=\u001b[0m \u001b[1;34m''\u001b[0m\u001b[1;33m,\u001b[0m \u001b[0mencoding\u001b[0m \u001b[1;33m=\u001b[0m \u001b[1;34m'UTF-8'\u001b[0m\u001b[1;33m)\u001b[0m \u001b[1;32mas\u001b[0m \u001b[0mfhandle\u001b[0m\u001b[1;33m:\u001b[0m\u001b[1;33m\u001b[0m\u001b[1;33m\u001b[0m\u001b[0m\n\u001b[0m\u001b[0;32m      2\u001b[0m     \u001b[0mdictionary\u001b[0m \u001b[1;33m=\u001b[0m \u001b[0mdict\u001b[0m\u001b[1;33m(\u001b[0m\u001b[1;33m)\u001b[0m\u001b[1;33m\u001b[0m\u001b[1;33m\u001b[0m\u001b[0m\n\u001b[0;32m      3\u001b[0m     \u001b[1;32mwith\u001b[0m \u001b[0mopen\u001b[0m\u001b[1;33m(\u001b[0m\u001b[0msrc\u001b[0m\u001b[1;33m,\u001b[0m \u001b[0mmode\u001b[0m \u001b[1;33m=\u001b[0m \u001b[1;34m'r'\u001b[0m\u001b[1;33m,\u001b[0m \u001b[0mnewline\u001b[0m \u001b[1;33m=\u001b[0m \u001b[1;34m''\u001b[0m\u001b[1;33m,\u001b[0m \u001b[0mencoding\u001b[0m \u001b[1;33m=\u001b[0m \u001b[1;34m'UTF-8'\u001b[0m\u001b[1;33m)\u001b[0m \u001b[1;32mas\u001b[0m \u001b[0mfile\u001b[0m\u001b[1;33m:\u001b[0m\u001b[1;33m\u001b[0m\u001b[1;33m\u001b[0m\u001b[0m\n\u001b[0;32m      4\u001b[0m         \u001b[1;32mfor\u001b[0m \u001b[0mrow\u001b[0m \u001b[1;32min\u001b[0m \u001b[0mfile\u001b[0m\u001b[1;33m:\u001b[0m\u001b[1;33m\u001b[0m\u001b[1;33m\u001b[0m\u001b[0m\n\u001b[0;32m      5\u001b[0m             \u001b[0mrow\u001b[0m \u001b[1;33m=\u001b[0m \u001b[0mrow\u001b[0m\u001b[1;33m.\u001b[0m\u001b[0mreplace\u001b[0m\u001b[1;33m(\u001b[0m\u001b[1;34m\"\\n\"\u001b[0m\u001b[1;33m,\u001b[0m\u001b[1;34m\"\"\u001b[0m\u001b[1;33m)\u001b[0m\u001b[1;33m\u001b[0m\u001b[1;33m\u001b[0m\u001b[0m\n",
            "\u001b[1;31mNameError\u001b[0m: name 'dst1' is not defined"
          ]
        }
      ]
    },
    {
      "cell_type": "code",
      "metadata": {
        "id": "XzFagXy9FzfI"
      },
      "source": [
        "with open(dst1, mode = 'r', newline = '', encoding = 'UTF-8') as file:\n",
        "    for count, row in enumerate(file):\n",
        "        print(row)\n",
        "        if count == 5:\n",
        "            break\n",
        "        pass\n",
        "    pass"
      ],
      "execution_count": null,
      "outputs": []
    },
    {
      "cell_type": "markdown",
      "metadata": {
        "id": "fVl2gEzsFzfK"
      },
      "source": [
        "### Frequency file according to alphabetic order (txt)"
      ]
    },
    {
      "cell_type": "code",
      "metadata": {
        "id": "BdchR_SrFzfL"
      },
      "source": [
        "src = \"Trigram.txt\"\n",
        "dst = \"Alphabetic_sort.txt\""
      ],
      "execution_count": null,
      "outputs": []
    },
    {
      "cell_type": "code",
      "metadata": {
        "id": "sD31Y0ClFzfN"
      },
      "source": [
        "with open(dst, mode = 'w', newline = '', encoding = 'UTF-8') as fhandle:\n",
        "    dictionary = dict()\n",
        "    with open(src, mode = 'r', newline = '', encoding = 'UTF-8') as file:\n",
        "        for row in file:\n",
        "            row = row.replace(\"\\n\",\"\")\n",
        "            dictionary[row] = dictionary.get(row, 0) + 1\n",
        "            pass\n",
        "        list_of_tuple = dictionary.items()\n",
        "        list_of_tuple = sorted(list_of_tuple)\n",
        "        \n",
        "        for key, val in list_of_tuple:\n",
        "            #sample input_array = [newsTitle, news_content, 'economics, bank-insurance', newsDate, newsWriter]\n",
        "            #file_writer.writerow([key, val])\n",
        "            fhandle.write(key+\" \"+str(val)+\"\\n\")\n",
        "            pass\n",
        "        pass\n",
        "    pass"
      ],
      "execution_count": null,
      "outputs": []
    },
    {
      "cell_type": "code",
      "metadata": {
        "id": "u3qYOKNcFzfO"
      },
      "source": [
        "with open(dst, mode = 'r', newline = '', encoding = 'UTF-8') as file:\n",
        "    for count, row in enumerate(file):\n",
        "        print(row)\n",
        "        if count == 50:\n",
        "            break\n",
        "        pass\n",
        "    pass"
      ],
      "execution_count": null,
      "outputs": []
    }
  ]
}