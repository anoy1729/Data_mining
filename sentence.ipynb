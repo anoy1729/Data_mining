{
  "nbformat": 4,
  "nbformat_minor": 0,
  "metadata": {
    "colab": {
      "name": "sentence.ipynb",
      "provenance": [],
      "mount_file_id": "1tpRMTdKmeAaikS7EOokaSR0ruzsXpCjq",
      "authorship_tag": "ABX9TyPRTDI/PUdjqrB1D50lQ1hU",
      "include_colab_link": true
    },
    "kernelspec": {
      "name": "python3",
      "display_name": "Python 3"
    }
  },
  "cells": [
    {
      "cell_type": "markdown",
      "metadata": {
        "id": "view-in-github",
        "colab_type": "text"
      },
      "source": [
        "<a href=\"https://colab.research.google.com/github/anoy1729/Data_mining/blob/main/sentence.ipynb\" target=\"_parent\"><img src=\"https://colab.research.google.com/assets/colab-badge.svg\" alt=\"Open In Colab\"/></a>"
      ]
    },
    {
      "cell_type": "code",
      "metadata": {
        "id": "JCCBs5RvH4dx",
        "colab": {
          "base_uri": "https://localhost:8080/"
        },
        "outputId": "7afffbd5-beed-4639-954b-2543d2e373a3"
      },
      "source": [
        "import csv\n",
        "sentence_list=[]\n",
        "with open('/content/drive/MyDrive/DM_lab/input/amadershomoy_sports.csv') as news_articles:\n",
        "    readCSV = csv.reader(news_articles)\n",
        "\n",
        "    for row in readCSV:\n",
        "      \n",
        "      try:\n",
        "        sentences=row[1].split('।')\n",
        "        for each_sentence in sentences:\n",
        "          sentence_list.append(each_sentence.split('?'))\n",
        "      except IndexError:\n",
        "        continue\n",
        "\n",
        "print(len(sentence_list))\n",
        "with open('/content/drive/MyDrive/DM_lab/output/amadershomoy_sports.csv', mode='a',newline=\"\\n\", encoding='utf-8') as article_sentences:\n",
        "            news_article_writer = csv.writer(article_sentences, delimiter=',', quoting=csv.QUOTE_MINIMAL)\n",
        "            for sentence_1 in sentence_list:\n",
        "              news_article_writer.writerow(sentence_1)"
      ],
      "execution_count": null,
      "outputs": [
        {
          "output_type": "stream",
          "text": [
            "30538\n"
          ],
          "name": "stdout"
        }
      ]
    },
    {
      "cell_type": "code",
      "metadata": {
        "id": "M2XRmJ_jae8o",
        "colab": {
          "base_uri": "https://localhost:8080/"
        },
        "outputId": "d4006a8b-f698-4391-bcf5-347df3f5aecb"
      },
      "source": [
        "print(len(sentence_list))"
      ],
      "execution_count": null,
      "outputs": [
        {
          "output_type": "stream",
          "text": [
            "538788\n"
          ],
          "name": "stdout"
        }
      ]
    }
  ]
}