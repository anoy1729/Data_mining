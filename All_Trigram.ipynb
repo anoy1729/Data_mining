{
  "nbformat": 4,
  "nbformat_minor": 0,
  "metadata": {
    "kernelspec": {
      "display_name": "Python 3",
      "language": "python",
      "name": "python3"
    },
    "language_info": {
      "codemirror_mode": {
        "name": "ipython",
        "version": 3
      },
      "file_extension": ".py",
      "mimetype": "text/x-python",
      "name": "python",
      "nbconvert_exporter": "python",
      "pygments_lexer": "ipython3",
      "version": "3.8.5"
    },
    "colab": {
      "name": "All_Trigram.ipynb",
      "provenance": [],
      "include_colab_link": true
    }
  },
  "cells": [
    {
      "cell_type": "markdown",
      "metadata": {
        "id": "view-in-github",
        "colab_type": "text"
      },
      "source": [
        "<a href=\"https://colab.research.google.com/github/anoy1729/Data_mining/blob/main/All_Trigram.ipynb\" target=\"_parent\"><img src=\"https://colab.research.google.com/assets/colab-badge.svg\" alt=\"Open In Colab\"/></a>"
      ]
    },
    {
      "cell_type": "code",
      "metadata": {
        "id": "qPGWnOIMh2hP"
      },
      "source": [
        "import csv\n",
        "import string"
      ],
      "execution_count": null,
      "outputs": []
    },
    {
      "cell_type": "code",
      "metadata": {
        "id": "ofPxmjIbh2hb"
      },
      "source": [
        "path = \"All_News.csv\""
      ],
      "execution_count": null,
      "outputs": []
    },
    {
      "cell_type": "code",
      "metadata": {
        "id": "t97N6Z4jh2hb"
      },
      "source": [
        "def starting(str):\n",
        "    bad_starting = ['ং', 'ঁ', 'া', 'ি', 'ী', 'ু', 'ূ', 'ৃ', 'ে', 'ৈ', 'ো', '্', 'ৎ', '‍']\n",
        "    for i in bad_starting:\n",
        "        if str.startswith(i):\n",
        "            return False\n",
        "        pass\n",
        "    return True"
      ],
      "execution_count": null,
      "outputs": []
    },
    {
      "cell_type": "code",
      "metadata": {
        "id": "4Fd0hdT9h2hc"
      },
      "source": [
        "bad_chars = ['\\ufeff', '‘', '’', '”', '“', '…', '•', '—', '–', '‎', '৷', 'ৱ', '¯', 'Í', 'É', 'Ñ', 'Ò', 'Ó', 'Ô', 'Õ', 'é', 'à', 'ÿ', '˂', '˃', '̈ ','1', '2', '3', '4', '5', '6', '7', '8', '9', '0', 'a', 'b', 'c', 'd', 'e', 'f', 'g', 'h', 'i', 'j', 'k', 'l', 'm', 'n', 'o', 'p', 'q', 'r', 's', 't', 'u', 'v', 'w', 'x', 'y', 'z', 'A', 'B', 'C', 'D', 'E', 'F', 'G', 'H', 'I', 'J', 'K', 'L', 'M', 'N', 'O', 'P', 'Q', 'R', 'S', 'T', 'U', 'V', 'W', 'X', 'Y', 'Z'] \n",
        "c = 0\n",
        "with open(\"Trigram.txt\", mode = 'w', newline = '', encoding = 'UTF-8') as fhandle:\n",
        "    \n",
        "    with open(path, mode = 'r', newline = '', encoding = 'UTF-8') as file:\n",
        "        readCSV = csv.reader(file, quoting=csv.QUOTE_MINIMAL)\n",
        "        #print(type(readCSV))#<class '_csv.reader'>\n",
        "        for row in readCSV:\n",
        "            #print(type(row)) # <class 'list'>\n",
        "            #print(len(row))  # 5\n",
        "            #print(row[:2])    # we need only 0 and 1 column\n",
        "            c += 1\n",
        "            for item in row[:2]:\n",
        "                #print(item)        # item[0] = title and item[1] = news\n",
        "                #print(type(item)) # <class 'str'>\n",
        "            \n",
        "                translation = item.maketrans(\"\",\"\",string.punctuation)\n",
        "                item = item.translate(translation)\n",
        "                #print(item) \n",
        "                first_word = None\n",
        "                second_word = None\n",
        "                third_word = None\n",
        "                \n",
        "                items = item.split(\"।\")\n",
        "                \n",
        "                for words in items:\n",
        "                    #print(words) # this is each individual sentence\n",
        "                    for word in words.split():\n",
        "                        #print(word)  # i have to save this word in a csv file\n",
        "                        for i in bad_chars:\n",
        "                            word = word.replace(i, \"\")\n",
        "                            pass\n",
        "                        if word != '' and starting(word):\n",
        "                            first_word = second_word\n",
        "                            second_word = third_word\n",
        "                            third_word = word\n",
        "                            if first_word != None:\n",
        "                                #print(first_word+' '+second_word+' '+third_word+'\\n')\n",
        "                                fhandle.write(first_word+' '+second_word+' '+third_word+'\\n')\n",
        "            if c%100 == 0:\n",
        "                print(\"{0} articles management ended\".format(c))\n",
        "        print(\"{0} items done and saved the words in text file\".format(c))"
      ],
      "execution_count": null,
      "outputs": []
    },
    {
      "cell_type": "code",
      "metadata": {
        "scrolled": true,
        "id": "TLuIYmnIh2he"
      },
      "source": [
        "c = 0\n",
        "with open(\"Trigram.txt\", mode = 'r', newline = '', encoding = 'UTF-8') as fhandle:\n",
        "    for line in fhandle:\n",
        "        #print(line) # this is every line\n",
        "        c += 1\n",
        "        \n",
        "print(c) # 17283074 ----> 17269089 ---->"
      ],
      "execution_count": null,
      "outputs": []
    },
    {
      "cell_type": "code",
      "metadata": {
        "id": "3nC8Y2S0h2he"
      },
      "source": [
        ""
      ],
      "execution_count": null,
      "outputs": []
    }
  ]
}